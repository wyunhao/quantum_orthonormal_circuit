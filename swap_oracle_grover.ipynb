{
 "cells": [
  {
   "cell_type": "code",
   "execution_count": 8,
   "id": "8146be66",
   "metadata": {},
   "outputs": [],
   "source": [
    "# Do the necessary imports\n",
    "import numpy as np\n",
    "import matplotlib.pyplot as plt\n",
    "\n",
    "from qiskit import QuantumCircuit, QuantumRegister, ClassicalRegister\n",
    "from qiskit import IBMQ, Aer, transpile, assemble\n",
    "from qiskit.visualization import plot_histogram, plot_bloch_multivector, array_to_latex\n",
    "from qiskit.extensions import Initialize\n",
    "from qiskit.quantum_info import random_statevector"
   ]
  },
  {
   "cell_type": "code",
   "execution_count": 9,
   "id": "53b010ac",
   "metadata": {},
   "outputs": [],
   "source": [
    "# this block only needs to be run once\n",
    "\n",
    "# from qiskit import IBMQ\n",
    "# IBMQ.save_account('2295eb6b30c26aecc9b9ecb0677b769a8e3a606479658709d13cd7301349ce07965760ac5eeb2fbb1e9cb741bdfc881058301125aaa6e1a703beedc07bb9db94')\n",
    "\n",
    "# provider = IBMQ.load_account()\n",
    "# backend = provider.get_backend('ibmq_quito')"
   ]
  },
  {
   "cell_type": "code",
   "execution_count": null,
   "id": "dca80c05",
   "metadata": {},
   "outputs": [],
   "source": [
    "# superposition, simulate all vectors in R^n\n",
    "\n",
    "def initialize_s(qc, qubits):\n",
    "    \"\"\"Apply a H-gate to 'qubits' in qc\"\"\"\n",
    "    for q in qubits:\n",
    "        qc.h(q)\n",
    "    return qc"
   ]
  },
  {
   "cell_type": "code",
   "execution_count": null,
   "id": "8ebd71c9",
   "metadata": {},
   "outputs": [],
   "source": [
    "# diffuser\n",
    "\n",
    "def diffuser(nqubits):\n",
    "    qc = QuantumCircuit(nqubits)\n",
    "    # Apply transformation |s> -> |00..0> (H-gates)\n",
    "    for qubit in range(nqubits):\n",
    "        qc.h(qubit)\n",
    "    # Apply transformation |00..0> -> |11..1> (X-gates)\n",
    "    for qubit in range(nqubits):\n",
    "        qc.x(qubit)\n",
    "    # Do multi-controlled-Z gate\n",
    "    qc.h(nqubits-1)\n",
    "    qc.mct(list(range(nqubits-1)), nqubits-1)  # multi-controlled-toffoli\n",
    "    qc.h(nqubits-1)\n",
    "    # Apply transformation |11..1> -> |00..0>\n",
    "    for qubit in range(nqubits):\n",
    "        qc.x(qubit)\n",
    "    # Apply transformation |00..0> -> |s>\n",
    "    for qubit in range(nqubits):\n",
    "        qc.h(qubit)\n",
    "    # We will return the diffuser as a gate\n",
    "    U_s = qc.to_gate()\n",
    "    U_s.name = \"U$_s$\"\n",
    "    return U_s"
   ]
  },
  {
   "cell_type": "code",
   "execution_count": 10,
   "id": "b5a4fa06",
   "metadata": {},
   "outputs": [],
   "source": [
    "# oracle\n",
    "\n",
    "# TODO: now only for two vectors, with a single controlled bit\n",
    "# def othonormal_swap_oracle(n_qubit):\n",
    "#     qc = QuantumCircuit(3)\n",
    "\n",
    "#     # for qubit in range(n_quibit - 1):\n",
    "        \n",
    "#     qc.cswap(0,1,2)\n",
    "    \n",
    "#     U_o\n"
   ]
  },
  {
   "cell_type": "code",
   "execution_count": 28,
   "id": "ea1a0181",
   "metadata": {},
   "outputs": [
    {
     "data": {
      "image/png": "[encoded data removed]",
      "text/plain": [
       "<Figure size 387.597x385.28 with 1 Axes>"
      ]
     },
     "execution_count": 28,
     "metadata": {},
     "output_type": "execute_result"
    }
   ],
   "source": [
    "tc = QuantumCircuit(5,1)\n",
    "\n",
    "\n",
    "tc.h(0)\n",
    "\n",
    "tc.initialize([0,1], 1) # this is the orthonormal case\n",
    "tc.initialize([0,1], 4)\n",
    "tc.cswap(0,1,3)\n",
    "tc.cswap(0,2,4)\n",
    "tc.h(0)\n",
    "\n",
    "tc.measure(0,0)\n",
    "\n",
    "tc.draw('mpl')"
   ]
  },
  {
   "cell_type": "code",
   "execution_count": 29,
   "id": "a75f81e6",
   "metadata": {},
   "outputs": [
    {
     "name": "stdout",
     "output_type": "stream",
     "text": [
      "Job Status: job has successfully run\n"
     ]
    },
    {
     "data": {
      "image/png": "[encoded data removed]",
      "text/plain": [
       "<Figure size 504x360 with 1 Axes>"
      ]
     },
     "execution_count": 29,
     "metadata": {},
     "output_type": "execute_result"
    }
   ],
   "source": [
    "# If q_12 and q_34 are orthonormal in R^2 space\n",
    "# then the outcome should be 1 with pr around 0.5\n",
    "# otherwise, as two quantum states approximate to parallel\n",
    "# the probability of outcome to be 1 will approx to 0\n",
    "\n",
    "# sample testing result: with [1,0] [0,0]: 0.501 [0], 0.499 [1]\n",
    "#                             [1,0] [1,0]: 0.697 [0], 0.303 [1]\n",
    "#                             [1,0] [0,1]: 0.507 [0], 0.493 [1]\n",
    "\n",
    "t_tc = transpile(tc, backend, optimization_level=3)\n",
    "job = backend.run(t_tc)\n",
    "job_monitor(job)  # displays job status under cell\n",
    "\n",
    "results = job.result().get_counts(tc)\n",
    "    \n",
    "plot_histogram(results)"
   ]
  }
 ],
 "metadata": {
  "kernelspec": {
   "display_name": "Python 3 (ipykernel)",
   "language": "python",
   "name": "python3"
  },
  "language_info": {
   "codemirror_mode": {
    "name": "ipython",
    "version": 3
   },
   "file_extension": ".py",
   "mimetype": "text/x-python",
   "name": "python",
   "nbconvert_exporter": "python",
   "pygments_lexer": "ipython3",
   "version": "3.9.7"
  }
 },
 "nbformat": 4,
 "nbformat_minor": 5
}
